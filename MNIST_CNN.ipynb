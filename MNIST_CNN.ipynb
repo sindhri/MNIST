{
 "cells": [
  {
   "cell_type": "code",
   "execution_count": 2,
   "metadata": {},
   "outputs": [],
   "source": [
    "# Simple CNN for the MNIST Dataset\n",
    "from tensorflow.keras.datasets import mnist\n",
    "from tensorflow.keras.models import Sequential\n",
    "from tensorflow.keras.layers import Dense\n",
    "from tensorflow.keras.layers import Dropout\n",
    "from tensorflow.keras.layers import Flatten\n",
    "#had to modifiy to fit keras > 2.0\n",
    "from tensorflow.keras.layers import Conv2D\n",
    "from tensorflow.keras.layers import MaxPooling2D\n",
    "from tensorflow.keras.utils import to_categorical"
   ]
  },
  {
   "cell_type": "code",
   "execution_count": 4,
   "metadata": {},
   "outputs": [],
   "source": [
    "# load data\n",
    "(X_train, y_train), (X_test, y_test) = mnist.load_data()\n",
    "# reshape to be [samples][width][height][channels]\n",
    "X_train = X_train.reshape((X_train.shape[0], 28, 28, 1)).astype('float32')\n",
    "X_test = X_test.reshape((X_test.shape[0], 28, 28, 1)).astype('float32')\n",
    "# normalize inputs from 0-255 to 0-1\n",
    "X_train = X_train / 255\n",
    "X_test = X_test / 255\n",
    "# one hot encode outputs\n",
    "y_train = to_categorical(y_train)\n",
    "y_test = to_categorical(y_test)\n",
    "num_classes = y_test.shape[1]"
   ]
  },
  {
   "cell_type": "code",
   "execution_count": 5,
   "metadata": {},
   "outputs": [],
   "source": [
    "# define a simple CNN model\n",
    "def baseline_model():\n",
    "\t# create model\n",
    "\tmodel = Sequential()\n",
    "\tmodel.add(Conv2D(32, (5, 5), input_shape=(28, 28, 1), activation='relu'))\n",
    "\tmodel.add(MaxPooling2D())\n",
    "\tmodel.add(Dropout(0.2))\n",
    "\tmodel.add(Flatten())\n",
    "\tmodel.add(Dense(128, activation='relu'))\n",
    "\tmodel.add(Dense(num_classes, activation='softmax'))\n",
    "\t# Compile model\n",
    "\tmodel.compile(loss='categorical_crossentropy', optimizer='adam', metrics=['accuracy'])\n",
    "\treturn model"
   ]
  },
  {
   "cell_type": "code",
   "execution_count": 6,
   "metadata": {},
   "outputs": [
    {
     "name": "stdout",
     "output_type": "stream",
     "text": [
      "Epoch 1/10\n",
      "300/300 [==============================] - 20s 68ms/step - loss: 0.2465 - accuracy: 0.9294 - val_loss: 0.0764 - val_accuracy: 0.9780\n",
      "Epoch 2/10\n",
      "300/300 [==============================] - 21s 70ms/step - loss: 0.0763 - accuracy: 0.9773 - val_loss: 0.0541 - val_accuracy: 0.9842\n",
      "Epoch 3/10\n",
      "300/300 [==============================] - 21s 69ms/step - loss: 0.0534 - accuracy: 0.9838 - val_loss: 0.0408 - val_accuracy: 0.9875\n",
      "Epoch 4/10\n",
      "300/300 [==============================] - 22s 74ms/step - loss: 0.0411 - accuracy: 0.9875 - val_loss: 0.0363 - val_accuracy: 0.9884\n",
      "Epoch 5/10\n",
      "300/300 [==============================] - 20s 68ms/step - loss: 0.0347 - accuracy: 0.9891 - val_loss: 0.0367 - val_accuracy: 0.9884\n",
      "Epoch 6/10\n",
      "300/300 [==============================] - 22s 75ms/step - loss: 0.0287 - accuracy: 0.9909 - val_loss: 0.0337 - val_accuracy: 0.9887\n",
      "Epoch 7/10\n",
      "300/300 [==============================] - 21s 71ms/step - loss: 0.0231 - accuracy: 0.9924 - val_loss: 0.0340 - val_accuracy: 0.9891\n",
      "Epoch 8/10\n",
      "300/300 [==============================] - 20s 68ms/step - loss: 0.0197 - accuracy: 0.9940 - val_loss: 0.0331 - val_accuracy: 0.9905\n",
      "Epoch 9/10\n",
      "300/300 [==============================] - 19s 65ms/step - loss: 0.0169 - accuracy: 0.9945 - val_loss: 0.0352 - val_accuracy: 0.9888\n",
      "Epoch 10/10\n",
      "300/300 [==============================] - 23s 76ms/step - loss: 0.0152 - accuracy: 0.9951 - val_loss: 0.0345 - val_accuracy: 0.9891\n",
      "CNN Error: 1.09%\n"
     ]
    }
   ],
   "source": [
    "# build the simple CNN model\n",
    "model = baseline_model()\n",
    "# Fit the model\n",
    "model.fit(X_train, y_train, validation_data=(X_test, y_test), epochs=10, batch_size=200)\n",
    "# Final evaluation of the model\n",
    "scores = model.evaluate(X_test, y_test, verbose=0)\n",
    "print(\"CNN Error: %.2f%%\" % (100-scores[1]*100))"
   ]
  },
  {
   "cell_type": "code",
   "execution_count": 7,
   "metadata": {},
   "outputs": [],
   "source": [
    "#larger CNN\n",
    "def larger_model():\n",
    "\t# create model\n",
    "\tmodel = Sequential()\n",
    "\tmodel.add(Conv2D(30, (5, 5), input_shape=(28, 28, 1), activation='relu'))\n",
    "\tmodel.add(MaxPooling2D())\n",
    "\tmodel.add(Conv2D(15, (3, 3), activation='relu'))\n",
    "\tmodel.add(MaxPooling2D())\n",
    "\tmodel.add(Dropout(0.2))\n",
    "\tmodel.add(Flatten())\n",
    "\tmodel.add(Dense(128, activation='relu'))\n",
    "\tmodel.add(Dense(50, activation='relu'))\n",
    "\tmodel.add(Dense(num_classes, activation='softmax'))\n",
    "\t# Compile model\n",
    "\tmodel.compile(loss='categorical_crossentropy', optimizer='adam', metrics=['accuracy'])\n",
    "\treturn model"
   ]
  },
  {
   "cell_type": "code",
   "execution_count": 8,
   "metadata": {},
   "outputs": [
    {
     "name": "stdout",
     "output_type": "stream",
     "text": [
      "Epoch 1/10\n",
      "300/300 [==============================] - 27s 92ms/step - loss: 0.3923 - accuracy: 0.8781 - val_loss: 0.0752 - val_accuracy: 0.9776\n",
      "Epoch 2/10\n",
      "300/300 [==============================] - 37s 125ms/step - loss: 0.0983 - accuracy: 0.9698 - val_loss: 0.0537 - val_accuracy: 0.9817\n",
      "Epoch 3/10\n",
      "300/300 [==============================] - 31s 102ms/step - loss: 0.0704 - accuracy: 0.9783 - val_loss: 0.0353 - val_accuracy: 0.9888\n",
      "Epoch 4/10\n",
      "300/300 [==============================] - 28s 95ms/step - loss: 0.0581 - accuracy: 0.9826 - val_loss: 0.0323 - val_accuracy: 0.9896\n",
      "Epoch 5/10\n",
      "300/300 [==============================] - 28s 92ms/step - loss: 0.0498 - accuracy: 0.9848 - val_loss: 0.0325 - val_accuracy: 0.9892\n",
      "Epoch 6/10\n",
      "300/300 [==============================] - 27s 91ms/step - loss: 0.0457 - accuracy: 0.9855 - val_loss: 0.0274 - val_accuracy: 0.9919\n",
      "Epoch 7/10\n",
      "300/300 [==============================] - 28s 92ms/step - loss: 0.0402 - accuracy: 0.9877 - val_loss: 0.0278 - val_accuracy: 0.9914\n",
      "Epoch 8/10\n",
      "300/300 [==============================] - 33s 110ms/step - loss: 0.0359 - accuracy: 0.9886 - val_loss: 0.0247 - val_accuracy: 0.9919\n",
      "Epoch 9/10\n",
      "300/300 [==============================] - 32s 107ms/step - loss: 0.0349 - accuracy: 0.9891 - val_loss: 0.0271 - val_accuracy: 0.9909\n",
      "Epoch 10/10\n",
      "300/300 [==============================] - 32s 108ms/step - loss: 0.0319 - accuracy: 0.9896 - val_loss: 0.0253 - val_accuracy: 0.9923\n",
      "Large CNN Error: 0.77%\n"
     ]
    }
   ],
   "source": [
    "# build the model\n",
    "model = larger_model()\n",
    "# Fit the model\n",
    "model.fit(X_train, y_train, validation_data=(X_test, y_test), epochs=10, batch_size=200)\n",
    "# Final evaluation of the model\n",
    "scores = model.evaluate(X_test, y_test, verbose=0)\n",
    "print(\"Large CNN Error: %.2f%%\" % (100-scores[1]*100))"
   ]
  },
  {
   "cell_type": "code",
   "execution_count": null,
   "metadata": {},
   "outputs": [],
   "source": []
  }
 ],
 "metadata": {
  "kernelspec": {
   "display_name": "Python 3",
   "language": "python",
   "name": "python3"
  },
  "language_info": {
   "codemirror_mode": {
    "name": "ipython",
    "version": 3
   },
   "file_extension": ".py",
   "mimetype": "text/x-python",
   "name": "python",
   "nbconvert_exporter": "python",
   "pygments_lexer": "ipython3",
   "version": "3.7.4"
  }
 },
 "nbformat": 4,
 "nbformat_minor": 2
}
