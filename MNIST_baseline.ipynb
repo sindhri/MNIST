{
 "cells": [
  {
   "cell_type": "code",
   "execution_count": 3,
   "metadata": {},
   "outputs": [],
   "source": [
    "# Baseline MLP for MNIST dataset\n",
    "from tensorflow.keras.datasets import mnist\n",
    "from tensorflow.keras.models import Sequential\n",
    "from tensorflow.keras.layers import Dense\n",
    "from tensorflow.keras.utils import to_categorical"
   ]
  },
  {
   "cell_type": "code",
   "execution_count": 4,
   "metadata": {},
   "outputs": [
    {
     "name": "stdout",
     "output_type": "stream",
     "text": [
      "Downloading data from https://storage.googleapis.com/tensorflow/tf-keras-datasets/mnist.npz\n",
      "11493376/11490434 [==============================] - 8s 1us/step\n"
     ]
    },
    {
     "data": {
      "text/plain": [
       "(60000, 28, 28)"
      ]
     },
     "execution_count": 4,
     "metadata": {},
     "output_type": "execute_result"
    }
   ],
   "source": [
    "# load data\n",
    "(X_train, y_train), (X_test, y_test) = mnist.load_data()\n",
    "X_train.shape"
   ]
  },
  {
   "cell_type": "code",
   "execution_count": 8,
   "metadata": {},
   "outputs": [],
   "source": [
    "# flatten 28*28 images to a 784 vector for each image\n",
    "num_pixels = X_train.shape[1] * X_train.shape[2]\n",
    "X_train = X_train.reshape((X_train.shape[0], num_pixels)).astype('float32')\n",
    "X_test = X_test.reshape((X_test.shape[0], num_pixels)).astype('float32')\n",
    "# normalize inputs from 0-255 to 0-1\n",
    "X_train = X_train / 255\n",
    "X_test = X_test / 255\n",
    "# one hot encode outputs\n",
    "y_train = to_categorical(y_train)\n",
    "y_test = to_categorical(y_test)\n",
    "num_classes = y_test.shape[1]"
   ]
  },
  {
   "cell_type": "code",
   "execution_count": 9,
   "metadata": {},
   "outputs": [],
   "source": [
    "# define baseline model\n",
    "def baseline_model():\n",
    "\t# create model\n",
    "\tmodel = Sequential()\n",
    "\tmodel.add(Dense(num_pixels, input_dim=num_pixels, activation='relu'))\n",
    "\tmodel.add(Dense(num_classes, activation='softmax'))\n",
    "\t# Compile model\n",
    "\tmodel.compile(loss='categorical_crossentropy', optimizer='adam', metrics=['accuracy'])\n",
    "\treturn model"
   ]
  },
  {
   "cell_type": "code",
   "execution_count": 10,
   "metadata": {},
   "outputs": [
    {
     "name": "stdout",
     "output_type": "stream",
     "text": [
      "Epoch 1/10\n",
      "300/300 - 2s - loss: 0.2776 - accuracy: 0.9216 - val_loss: 0.1365 - val_accuracy: 0.9598\n",
      "Epoch 2/10\n",
      "300/300 - 3s - loss: 0.1123 - accuracy: 0.9673 - val_loss: 0.0959 - val_accuracy: 0.9710\n",
      "Epoch 3/10\n",
      "300/300 - 2s - loss: 0.0713 - accuracy: 0.9790 - val_loss: 0.0745 - val_accuracy: 0.9768\n",
      "Epoch 4/10\n",
      "300/300 - 2s - loss: 0.0514 - accuracy: 0.9847 - val_loss: 0.0673 - val_accuracy: 0.9783\n",
      "Epoch 5/10\n",
      "300/300 - 2s - loss: 0.0365 - accuracy: 0.9900 - val_loss: 0.0636 - val_accuracy: 0.9801\n",
      "Epoch 6/10\n",
      "300/300 - 2s - loss: 0.0269 - accuracy: 0.9929 - val_loss: 0.0605 - val_accuracy: 0.9806\n",
      "Epoch 7/10\n",
      "300/300 - 2s - loss: 0.0211 - accuracy: 0.9944 - val_loss: 0.0626 - val_accuracy: 0.9803\n",
      "Epoch 8/10\n",
      "300/300 - 2s - loss: 0.0151 - accuracy: 0.9964 - val_loss: 0.0586 - val_accuracy: 0.9811\n",
      "Epoch 9/10\n",
      "300/300 - 2s - loss: 0.0109 - accuracy: 0.9978 - val_loss: 0.0598 - val_accuracy: 0.9808\n",
      "Epoch 10/10\n",
      "300/300 - 2s - loss: 0.0086 - accuracy: 0.9983 - val_loss: 0.0549 - val_accuracy: 0.9833\n",
      "Baseline Error: 1.67%\n"
     ]
    }
   ],
   "source": [
    "# build the model\n",
    "model = baseline_model()\n",
    "# Fit the model\n",
    "model.fit(X_train, y_train, validation_data=(X_test, y_test), epochs=10, batch_size=200, verbose=2)\n",
    "# Final evaluation of the model\n",
    "scores = model.evaluate(X_test, y_test, verbose=0)\n",
    "print(\"Baseline Error: %.2f%%\" % (100-scores[1]*100))"
   ]
  },
  {
   "cell_type": "code",
   "execution_count": null,
   "metadata": {},
   "outputs": [],
   "source": []
  }
 ],
 "metadata": {
  "kernelspec": {
   "display_name": "Python 3",
   "language": "python",
   "name": "python3"
  },
  "language_info": {
   "codemirror_mode": {
    "name": "ipython",
    "version": 3
   },
   "file_extension": ".py",
   "mimetype": "text/x-python",
   "name": "python",
   "nbconvert_exporter": "python",
   "pygments_lexer": "ipython3",
   "version": "3.7.4"
  }
 },
 "nbformat": 4,
 "nbformat_minor": 2
}
